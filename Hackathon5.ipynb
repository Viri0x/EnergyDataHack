{
 "cells": [
  {
   "cell_type": "code",
   "execution_count": null,
   "metadata": {
    "id": "Gd9QjW9hq1Rx"
   },
   "outputs": [],
   "source": [
    "%matplotlib inline"
   ]
  },
  {
   "cell_type": "code",
   "execution_count": null,
   "metadata": {
    "id": "MS8T1VHhP97t"
   },
   "outputs": [],
   "source": [
    "\"\"\"\n",
    "Script python pour ouvrir les fichiers de traces de clavier\n",
    "\n",
    "\"\"\"\n",
    "import matplotlib.pyplot as plt\n",
    "import numpy as np\n",
    "import time\n",
    "\n",
    "def read_int(f):\n",
    "    ba = bytearray(4)\n",
    "    f.readinto(ba)\n",
    "    prm = np.frombuffer(ba, dtype=np.int32)\n",
    "    return prm[0]\n",
    "\n",
    "def read_double(f):\n",
    "    ba = bytearray(8)\n",
    "    f.readinto(ba)\n",
    "    prm = np.frombuffer(ba, dtype=np.double)\n",
    "    return prm[0]\n",
    "\n",
    "def read_double_tab(f, n):\n",
    "    ba = bytearray(8*n)\n",
    "    nr = f.readinto(ba)\n",
    "    if nr != len(ba):\n",
    "        return []\n",
    "    else:\n",
    "        prm = np.frombuffer(ba, dtype=np.double)\n",
    "        return prm\n",
    "\n",
    "def get_pics_from_file(filename):\n",
    "    # Lecture du fichier d'infos + pics detectes (post-processing KeyFinder)\n",
    "    print(\"Ouverture du fichier de pics \"+filename)\n",
    "    f_pic = open(filename, \"rb\")\n",
    "    info = dict()\n",
    "    info[\"nb_pics\"] = read_int(f_pic)\n",
    "    print(\"Nb pics par trame: \" + str(info[\"nb_pics\"]))\n",
    "    info[\"freq_sampling_khz\"] = read_double(f_pic)\n",
    "    print(\"Frequence d'echantillonnage: \" + str(info[\"freq_sampling_khz\"]) + \" kHz\")\n",
    "    info[\"freq_trame_hz\"] = read_double(f_pic)\n",
    "    print(\"Frequence trame: \" + str(info[\"freq_trame_hz\"]) + \" Hz\")\n",
    "    info[\"freq_pic_khz\"] = read_double(f_pic)\n",
    "    print(\"Frequence pic: \" + str(info[\"freq_pic_khz\"]) + \" kHz\")\n",
    "    info[\"norm_fact\"] = read_double(f_pic)\n",
    "    print(\"Facteur de normalisation: \" + str(info[\"norm_fact\"]))\n",
    "    tab_pics = []\n",
    "    pics = read_double_tab(f_pic, info[\"nb_pics\"])\n",
    "    nb_trames = 1\n",
    "    while len(pics) > 0:\n",
    "        nb_trames = nb_trames+1\n",
    "        tab_pics.append(pics)\n",
    "        pics = read_double_tab(f_pic, info[\"nb_pics\"])\n",
    "    print(\"Nb trames: \" + str(nb_trames))\n",
    "    f_pic.close()\n",
    "    return tab_pics, info\n",
    "  \n",
    "def get_pics_from_file2(filename):\n",
    "  # Lecture du fichier d'infos + pics detectes (post-processing KeyFinder)\n",
    "  f_pic = open(filename, \"rb\")\n",
    "  info = dict()\n",
    "  info[\"nb_pics\"] = read_int(f_pic)\n",
    "  info[\"freq_sampling_khz\"] = read_double(f_pic)\n",
    "  info[\"freq_trame_hz\"] = read_double(f_pic)\n",
    "  info[\"freq_pic_khz\"] = read_double(f_pic)\n",
    "  info[\"norm_fact\"] = read_double(f_pic)\n",
    "  tab_pics = []\n",
    "  pics = read_double_tab(f_pic, info[\"nb_pics\"])\n",
    "  nb_trames = 1\n",
    "  while len(pics) > 0:\n",
    "    nb_trames = nb_trames+1\n",
    "    tab_pics.append(pics)\n",
    "    pics = read_double_tab(f_pic, info[\"nb_pics\"])\n",
    "  f_pic.close()\n",
    "  return tab_pics, info"
   ]
  },
  {
   "cell_type": "code",
   "execution_count": null,
   "metadata": {
    "colab": {
     "base_uri": "https://localhost:8080/"
    },
    "id": "o-FTG4aiQwF7",
    "outputId": "682817df-7bf1-4c0f-90e7-e66362bca7ee"
   },
   "outputs": [
    {
     "name": "stdout",
     "output_type": "stream",
     "text": [
      "['0', '1', '2', '4', '3', '5', '6', '7', '8', '9', 'B', 'C', 'A', 'CTRL', 'E', 'D', 'ENTER', 'F', 'G', 'I', 'L', 'J', 'H', 'M', 'NOKEY', 'N', 'K', 'Y', 'U', 'Q', 'Z', 'SUPPR', 'V', 'T', 'O', 'R', 'SPACE', 'P', 'W', 'X', 'SHIFT', 'S']\n"
     ]
    }
   ],
   "source": [
    "# Creating lists for data\n",
    "# frames : all frames\n",
    "# letters : letter correspondig to frames\n",
    "import os\n",
    "import pandas as pd\n",
    "\n",
    "nb = 0\n",
    "frames = []\n",
    "letters = []\n",
    "labl = []\n",
    "for file in os.listdir(\"data/\"):\n",
    "    df = pd.DataFrame(columns=[\"trame\", \"label\"])\n",
    "    pics, info = get_pics_from_file2(\"data/\" + file)\n",
    "    label = file.split('_')[1]\n",
    "    label = label.split(\".\")[0]\n",
    "    if (label == \"LOGINMDP\"):\n",
    "        continue\n",
    "    labl.append(label)\n",
    "    frames.extend(pics)\n",
    "    letters.extend([label] * len(pics))\n",
    "\n",
    "print(labl)"
   ]
  },
  {
   "cell_type": "code",
   "execution_count": null,
   "metadata": {
    "colab": {
     "base_uri": "https://localhost:8080/"
    },
    "id": "R3sOiMfyAtCY",
    "outputId": "fd8318bd-b309-4b28-8e33-0bc33277d8bb"
   },
   "outputs": [
    {
     "name": "stdout",
     "output_type": "stream",
     "text": [
      "Train labels:\n",
      " 246128\n",
      "Test labels:\n",
      " 52742\n",
      "Test labels:\n",
      " 52742\n"
     ]
    }
   ],
   "source": [
    "# Splitting the data for train/test/validation sets.\n",
    "\n",
    "from sklearn.model_selection import train_test_split\n",
    "\n",
    "X_train, X_test, y_train, y_test = train_test_split(frames, letters, train_size=0.7, random_state=42, stratify=letters)\n",
    "\n",
    "X_val, X_test, y_val, y_test = train_test_split(X_test, y_test, train_size=0.5, random_state=42, stratify=y_test)\n",
    "print(f\"Train labels:\\n\", len(y_train))\n",
    "print(f\"Test labels:\\n\", len(y_test))\n",
    "print(f\"Test labels:\\n\", len(y_val))"
   ]
  },
  {
   "cell_type": "code",
   "execution_count": null,
   "metadata": {
    "id": "4WABIrheErSZ"
   },
   "outputs": [],
   "source": [
    "X_train = np.array(X_train, dtype=np.double)\n",
    "X_test = np.array(X_test, dtype=np.double)\n",
    "y_train = np.asarray(y_train)\n",
    "y_test = np.asarray(y_test)\n",
    "X_val = np.array(X_val, dtype=np.double)\n",
    "y_val = np.array(y_val)\n",
    "labl = np.asarray(labl)"
   ]
  },
  {
   "cell_type": "code",
   "execution_count": null,
   "metadata": {
    "colab": {
     "base_uri": "https://localhost:8080/"
    },
    "id": "6u8PMkjdaWOq",
    "outputId": "dc952a76-0086-485a-8762-6fa56c7223cf"
   },
   "outputs": [
    {
     "data": {
      "text/plain": [
       "KNeighborsClassifier(algorithm='auto', leaf_size=30, metric='minkowski',\n",
       "                     metric_params=None, n_jobs=-1, n_neighbors=1, p=2,\n",
       "                     weights='uniform')"
      ]
     },
     "execution_count": 42,
     "metadata": {
      "tags": []
     },
     "output_type": "execute_result"
    }
   ],
   "source": [
    "# KNN scikit learn version\n",
    "from sklearn.metrics import confusion_matrix\n",
    "from sklearn.neighbors import KNeighborsClassifier\n",
    "from sklearn.model_selection import GridSearchCV\n",
    "import functools\n",
    "import numpy as np\n",
    "\n",
    "#train\n",
    "knn = KNeighborsClassifier(n_neighbors=1, n_jobs= -1)\n",
    "knn.fit(X_train, y_train)"
   ]
  },
  {
   "cell_type": "code",
   "execution_count": null,
   "metadata": {
    "colab": {
     "base_uri": "https://localhost:8080/"
    },
    "id": "MhjuKUu2GFUx",
    "outputId": "c0d8cfed-9a86-4ed2-8cf2-f44bbf5b0ef0"
   },
   "outputs": [
    {
     "data": {
      "text/plain": [
       "0.5115467748663305"
      ]
     },
     "execution_count": 43,
     "metadata": {
      "tags": []
     },
     "output_type": "execute_result"
    }
   ],
   "source": [
    "import sklearn\n",
    "\n",
    "y_predict = knn.predict(X_val)\n",
    "sklearn.metrics.accuracy_score(y_val, y_predict)"
   ]
  },
  {
   "cell_type": "code",
   "execution_count": null,
   "metadata": {
    "id": "gaTLmci2aWOq"
   },
   "outputs": [],
   "source": [
    "login_mdp, info = get_pics_from_file3('data/pics_LOGINMDP.bin')\n",
    "all_letters = knn.predict(login_mdp)"
   ]
  },
  {
   "cell_type": "code",
   "execution_count": null,
   "metadata": {
    "id": "R6fyoc8paWOr"
   },
   "outputs": [],
   "source": [
    "# Function that takes the majority letter in an array of letters.\n",
    "def mean_letters(start, end, letters):\n",
    "    d =  {}\n",
    "    for i in range(start, end):\n",
    "        if letters[i] not in d:\n",
    "            d[letters[i]] = 0\n",
    "        d[letters[i]] += 1\n",
    "    maxi = letters[start]\n",
    "    for letter in d:\n",
    "        if d[letter] > d[maxi]:\n",
    "            maxi = letter\n",
    "    return maxi"
   ]
  },
  {
   "cell_type": "code",
   "execution_count": null,
   "metadata": {
    "colab": {
     "base_uri": "https://localhost:8080/",
     "height": 36
    },
    "id": "0V0tMGZDaWOr",
    "outputId": "4efe6f09-d461-4823-d6c6-23e7e2680cc1"
   },
   "outputs": [
    {
     "data": {
      "application/vnd.google.colaboratory.intrinsic+json": {
       "type": "string"
      },
      "text/plain": [
       "'E'"
      ]
     },
     "execution_count": 49,
     "metadata": {
      "tags": []
     },
     "output_type": "execute_result"
    }
   ],
   "source": [
    "mean_letters(0, 5, [\"I\", \"I\", \"E\", \"E\", \"E\", \"E\", \"E\", \"E\", \"E\", \"E\", \"E\", \"E\"])"
   ]
  },
  {
   "cell_type": "code",
   "execution_count": null,
   "metadata": {
    "colab": {
     "base_uri": "https://localhost:8080/"
    },
    "id": "kHtjD4_iaWOr",
    "outputId": "e7a4e4cd-905a-42f1-f5bf-5d7862c98dae"
   },
   "outputs": [
    {
     "name": "stdout",
     "output_type": "stream",
     "text": [
      "[array(['NOKEY', 'NOKEY', 'NOKEY', 'CTRL', 'CTRL', 'CTRL', 'CTRL', 'CTRL',\n",
      "       'CTRL', 'CTRL', 'CTRL', 'CTRL', 'CTRL', 'CTRL', 'CTRL', 'CTRL',\n",
      "       'CTRL', 'CTRL', 'CTRL', 'CTRL', 'CTRL', 'CTRL', 'CTRL', 'CTRL',\n",
      "       'CTRL', 'CTRL', 'CTRL', 'CTRL', 'CTRL', 'CTRL', 'CTRL', 'CTRL',\n",
      "       'CTRL', 'CTRL', 'CTRL', 'NOKEY', 'CTRL', 'CTRL', 'CTRL', 'CTRL',\n",
      "       'CTRL', 'CTRL', 'CTRL', 'CTRL', 'CTRL', 'CTRL', 'CTRL', 'CTRL',\n",
      "       'CTRL', 'CTRL', 'CTRL', 'CTRL', 'CTRL', 'CTRL', 'CTRL', 'CTRL',\n",
      "       'CTRL', 'CTRL', 'CTRL', 'CTRL', 'CTRL', 'CTRL', 'CTRL', 'CTRL',\n",
      "       'CTRL', 'CTRL', 'CTRL', 'CTRL', 'CTRL', 'CTRL', 'CTRL', 'CTRL',\n",
      "       'CTRL', 'CTRL', 'CTRL', 'CTRL', 'CTRL', 'CTRL', 'CTRL', 'CTRL',\n",
      "       'CTRL', '1', 'CTRL', 'CTRL', 'CTRL', 'CTRL', 'CTRL', 'CTRL',\n",
      "       'CTRL', 'W', 'CTRL', 'CTRL', 'CTRL', 'NOKEY', 'CTRL', 'CTRL',\n",
      "       'CTRL', 'CTRL', 'CTRL', 'CTRL', 'CTRL', 'CTRL', 'CTRL', 'CTRL',\n",
      "       'CTRL', 'CTRL', 'CTRL', 'CTRL', 'CTRL', 'CTRL', 'CTRL', 'CTRL',\n",
      "       'CTRL', 'CTRL', 'CTRL', 'CTRL', 'CTRL', 'CTRL', 'CTRL', 'CTRL',\n",
      "       'CTRL', 'CTRL', 'CTRL', 'CTRL', 'CTRL', 'CTRL', 'CTRL', 'CTRL',\n",
      "       'CTRL', 'CTRL', 'CTRL', 'CTRL', 'CTRL', 'CTRL', 'CTRL', 'CTRL',\n",
      "       'CTRL', 'CTRL', 'CTRL', 'CTRL', 'CTRL', 'CTRL', 'CTRL', 'CTRL',\n",
      "       'CTRL', 'CTRL', 'CTRL', 'CTRL', 'CTRL', 'CTRL', 'CTRL', 'CTRL',\n",
      "       'CTRL', 'CTRL', 'CTRL', 'CTRL', 'CTRL', 'CTRL', 'CTRL', 'CTRL',\n",
      "       'CTRL', 'CTRL', 'CTRL', 'CTRL', 'CTRL', 'CTRL', 'CTRL', 'CTRL',\n",
      "       'J', 'CTRL', 'CTRL', 'CTRL', 'CTRL', 'CTRL', 'CTRL', 'CTRL',\n",
      "       'CTRL', 'CTRL', 'CTRL', 'CTRL', 'CTRL', 'CTRL', 'CTRL', 'CTRL',\n",
      "       'CTRL', 'CTRL', 'CTRL', 'CTRL', 'CTRL', 'CTRL', 'CTRL', 'CTRL',\n",
      "       'CTRL', 'CTRL', 'CTRL', 'CTRL', 'CTRL', 'CTRL', 'CTRL', 'CTRL',\n",
      "       'CTRL', 'CTRL', 'CTRL', 'CTRL', 'CTRL', 'NOKEY', 'CTRL', 'CTRL',\n",
      "       'CTRL', 'CTRL', 'CTRL', 'CTRL', 'CTRL', 'CTRL', 'CTRL', 'CTRL',\n",
      "       'CTRL', 'CTRL', 'CTRL', 'CTRL', 'CTRL', 'CTRL', 'CTRL', 'CTRL',\n",
      "       'CTRL', 'CTRL', 'CTRL', 'Z', 'CTRL', 'CTRL', 'CTRL', 'CTRL',\n",
      "       'CTRL', 'CTRL', 'CTRL', 'CTRL', 'CTRL', 'CTRL', 'CTRL', 'CTRL',\n",
      "       'CTRL', 'CTRL', 'CTRL', 'CTRL', 'CTRL', 'CTRL', 'B', 'CTRL',\n",
      "       'CTRL', 'CTRL', 'CTRL', 'CTRL', 'CTRL', 'CTRL', 'CTRL', 'CTRL',\n",
      "       'CTRL', 'CTRL', 'CTRL', 'CTRL', 'CTRL', 'CTRL', 'CTRL', 'CTRL',\n",
      "       'B', 'CTRL', 'CTRL', 'CTRL', 'CTRL', 'CTRL', 'CTRL', 'CTRL',\n",
      "       'CTRL', 'CTRL', 'CTRL', 'CTRL', 'CTRL', 'CTRL', 'CTRL', 'CTRL',\n",
      "       'CTRL', 'CTRL', 'CTRL', 'NOKEY', 'CTRL', 'CTRL', 'CTRL', 'CTRL',\n",
      "       'CTRL', 'CTRL', 'CTRL', 'CTRL', 'CTRL', 'CTRL', 'CTRL', 'CTRL',\n",
      "       'CTRL', 'CTRL', 'CTRL', 'CTRL', 'CTRL', 'CTRL', 'CTRL', 'CTRL',\n",
      "       'CTRL', 'CTRL', 'CTRL', 'CTRL', 'CTRL', 'CTRL', 'CTRL', 'CTRL',\n",
      "       'CTRL', 'CTRL', 'CTRL', 'CTRL', 'CTRL', 'CTRL', 'CTRL', 'CTRL',\n",
      "       'CTRL', 'CTRL', 'CTRL', 'CTRL', 'CTRL', 'CTRL', 'CTRL', 'CTRL',\n",
      "       'CTRL', 'CTRL', 'CTRL', 'CTRL', 'CTRL', 'CTRL', 'CTRL', 'CTRL',\n",
      "       'X', 'CTRL', 'CTRL', 'CTRL', 'CTRL', 'CTRL', 'CTRL', 'CTRL',\n",
      "       'SUPPR', 'CTRL', 'T', 'CTRL', 'CTRL', 'CTRL', 'CTRL', 'CTRL',\n",
      "       'CTRL', 'CTRL', 'CTRL', 'CTRL', 'CTRL', 'CTRL', 'CTRL', 'CTRL',\n",
      "       'SUPPR', 'SUPPR', '0', 'SUPPR', '0', '0', '0', '0', 'SUPPR', '0',\n",
      "       'SUPPR', '0', '0', 'ENTER', 'SUPPR', '0', '0', '0', '0', '0',\n",
      "       'SUPPR', 'SUPPR', 'SUPPR', 'SUPPR', 'SUPPR', 'SUPPR', 'SUPPR',\n",
      "       'SUPPR', '0', 'SUPPR', 'SUPPR', '0', 'SUPPR', 'SUPPR', '0', '0',\n",
      "       'SUPPR', '0', 'SUPPR', 'SUPPR', 'SUPPR', '0', '0', 'SUPPR',\n",
      "       'SUPPR', 'SUPPR', 'SUPPR', '0', 'SUPPR', '0', 'SUPPR', '0', '0',\n",
      "       'SUPPR', '0', '0', '0', 'SUPPR', '0', 'SUPPR', 'SUPPR', '0', '0',\n",
      "       '0', 'SUPPR', 'SUPPR', 'SUPPR', 'SUPPR', 'SUPPR', 'SUPPR', 'SUPPR',\n",
      "       'SUPPR', '0', '0', 'SUPPR', 'SUPPR', 'SUPPR', '0', 'SUPPR',\n",
      "       'SUPPR', '0', '0', 'SUPPR', 'SUPPR', 'SUPPR', '0', '0', 'SUPPR',\n",
      "       '0', '0', 'SUPPR', 'SUPPR', '0', 'SUPPR', '0', 'SUPPR', 'SUPPR',\n",
      "       'SUPPR', '0', '3', 'SUPPR', 'SUPPR', 'SUPPR', 'SUPPR', '0',\n",
      "       'SUPPR', '0', 'SUPPR', '0', 'CTRL', 'SUPPR', 'SUPPR', '0', '0',\n",
      "       'SUPPR', 'SUPPR', '0', '0', '0', 'SUPPR', '0', 'SUPPR', 'SUPPR',\n",
      "       'SUPPR', 'SUPPR', 'SUPPR', 'SUPPR', 'SUPPR', 'SUPPR', 'SUPPR', '0',\n",
      "       'X', 'SUPPR', 'SUPPR', 'SUPPR', 'SUPPR', 'SUPPR', 'SUPPR', 'SUPPR',\n",
      "       'SUPPR', '0', 'SUPPR', 'SUPPR', '0', 'SUPPR', 'SUPPR', '0', 'CTRL',\n",
      "       'SUPPR', 'SUPPR', 'SUPPR', 'SUPPR', 'SUPPR', 'SUPPR', '0', 'SUPPR',\n",
      "       'SUPPR', 'SUPPR', 'SUPPR', '0', 'CTRL', 'CTRL', 'SUPPR', '0',\n",
      "       'SUPPR', '0', 'SUPPR', '0', 'SUPPR', 'SUPPR', 'SUPPR', 'SUPPR',\n",
      "       '0', 'SUPPR', 'SUPPR', 'M', 'SUPPR', '0', 'SUPPR', 'SUPPR',\n",
      "       'SUPPR', 'SUPPR', 'SUPPR', '0', 'SUPPR', 'SUPPR', 'SUPPR', 'SUPPR',\n",
      "       'T', 'SUPPR', '0', '0', 'SUPPR', 'SUPPR', 'SUPPR', 'SUPPR', '0',\n",
      "       'SUPPR', 'SUPPR', 'SUPPR', 'SUPPR', 'SUPPR', 'SUPPR', '0', 'SUPPR',\n",
      "       'SUPPR', '0', 'SUPPR', 'SUPPR', '0', 'SUPPR', 'SUPPR', '0', '0',\n",
      "       '4', 'SUPPR', '0', 'SUPPR', 'SUPPR', 'SUPPR', 'SUPPR', 'SUPPR',\n",
      "       'SUPPR', '0', '0', 'SUPPR', 'SUPPR', 'SUPPR', 'SUPPR', 'SUPPR',\n",
      "       'SUPPR', 'SUPPR', '0', 'SUPPR', 'SUPPR', 'SUPPR', 'SUPPR', 'SUPPR',\n",
      "       'SUPPR', 'SUPPR', '0', '0', '0', '4', 'SUPPR', '0', 'SUPPR', '0',\n",
      "       'SUPPR', 'SUPPR', 'SUPPR', 'SUPPR', 'SUPPR', 'SUPPR', 'SUPPR', '0',\n",
      "       'SUPPR', 'SUPPR', 'SUPPR', 'SUPPR', '0', 'SUPPR', 'SUPPR', '0',\n",
      "       'SUPPR', 'SUPPR', 'SUPPR', '0', 'SUPPR', '0', 'SUPPR', '0',\n",
      "       'SUPPR', 'SUPPR', '0', 'SUPPR', '0', '0', 'SUPPR', '0', '0',\n",
      "       'CTRL', 'SUPPR', '0', 'SUPPR', '0', 'SUPPR', 'SUPPR', 'SUPPR', '0',\n",
      "       'M', 'SUPPR', 'SUPPR', 'SUPPR', 'SUPPR', 'SUPPR', 'SUPPR', 'SUPPR',\n",
      "       'SUPPR', 'SUPPR', 'SUPPR', 'SUPPR', 'SUPPR'], dtype='<U5'), array(['T', 'Z', 'NOKEY', ..., 'SHIFT', 'SHIFT', 'SHIFT'], dtype='<U5'), array(['NOKEY', 'NOKEY', 'U', 'U', 'U', 'H', 'U', 'H', 'H', 'B', 'H', 'H',\n",
      "       'H', 'H', 'U', 'B', 'U', 'U', 'U', 'H', 'B', 'U', 'U', 'B', 'B',\n",
      "       'U', 'H', 'H', 'U', 'U', 'U', 'B', 'H', 'J', 'U', 'B', 'B', 'B',\n",
      "       'U', 'H', 'B', 'U', 'U', 'H', 'T', 'U', 'B', 'U', 'H', 'J', 'U',\n",
      "       'B', 'H', 'H', 'U', 'U', 'B', 'H', 'B', 'H', 'H', 'B', 'U', 'H',\n",
      "       'U', 'H', 'U', 'B', 'B', 'H', 'B', 'H', 'H', 'B', 'J', 'U', 'B',\n",
      "       'U', 'U', 'J', 'H', 'H', 'H', 'H', 'U', 'H', 'U', 'H', 'U', 'U',\n",
      "       'U', 'U', 'B', 'H', 'B', 'B', 'B', 'J', 'B', 'U', 'J', 'B', 'U',\n",
      "       'H', 'H', 'B', 'U', 'U', 'U', 'H', 'J', 'U', 'H', '7', 'B', 'B',\n",
      "       'U', 'B', 'B', 'U', 'J', 'J', 'B', 'B', 'H', 'B', 'J', 'U', 'H',\n",
      "       'U', 'B', 'U', 'B', 'U', 'U', 'H', 'U', 'B', 'U', 'U', 'B',\n",
      "       'NOKEY', 'U', 'U', 'B', 'U', 'U', 'U', 'H', 'U'], dtype='<U5'), array(['NOKEY', 'NOKEY', 'A', 'Q', 'A', 'A', 'A', 'Q', 'Q', 'W', 'A', 'W',\n",
      "       'A', 'Q', 'A', 'Q', 'Q', 'W', 'W', 'Q', 'Q', 'Q', 'W', 'Q', 'Q',\n",
      "       'Q', 'W', 'A', 'A', 'Q', 'A', 'Q', 'W', 'A', 'W', 'A', 'Q', 'A',\n",
      "       'W', 'A', 'A', 'W', 'A', 'W', 'W', 'W', 'W', 'W', 'Q', 'Q', 'Q',\n",
      "       'Q', 'A', 'Q', 'A', 'Q', 'Q', 'A', 'A', 'Q', 'Q', 'Q', 'A', 'W',\n",
      "       'W', 'Q', 'A', 'W', 'A', 'A', 'A', 'W', 'Q', 'W', 'A', 'W', 'Q',\n",
      "       'A', 'Q', 'W', 'A', 'W', 'A', 'W', 'W', 'Q', 'A', 'W', 'A', 'A',\n",
      "       'A', 'W', 'A', 'A', 'W', 'W', 'W', '0', 'A', 'A', 'A', 'Q', 'A',\n",
      "       'W', 'W', 'W', 'W', 'Q', 'Q', 'Q', 'W', 'Q', 'W', 'A', 'W', 'Q',\n",
      "       'W', 'A', 'W', 'A', 'W', 'Q', 'A', 'A', 'A', 'W', 'Q', 'Q', 'W'],\n",
      "      dtype='<U5'), array(['NOKEY', 'A', 'Q', 'W', 'W', 'Q', 'A', 'W', 'Q', 'W', 'W', 'A',\n",
      "       'W', 'W', 'A', 'Q', 'A'], dtype='<U5'), array(['NOKEY', 'NOKEY', 'C', 'D', 'C', 'C', 'C', 'C', 'C', 'D', 'C', 'C',\n",
      "       'C', 'C', 'C', 'E', 'C', 'C', 'C', 'C', 'C', 'C', 'C', 'C', 'C',\n",
      "       'C', 'D', 'C', 'E', 'C', 'D', 'C', 'C', 'C', 'C', 'D', 'C', 'D',\n",
      "       'D', 'E', 'C', 'D', 'C', 'C', 'C', 'C', 'C', 'D', 'C', 'C', 'B',\n",
      "       'C', 'C', 'C', 'C', 'D', 'C', 'D', 'D', 'D', 'C', 'C', 'C', 'D',\n",
      "       'C', 'C', 'C', 'C', 'C', 'C', 'C', '8', 'C', 'C', 'C', 'D', 'D',\n",
      "       'C', 'C', 'C', 'C', 'E', 'C', 'E', 'C', 'D', 'C', 'C', 'C', 'C',\n",
      "       'C', 'E', 'E', 'D', 'C', 'C', 'D', 'C', 'D', 'C', 'C', 'C', 'C',\n",
      "       'C', 'C', 'D', 'C', 'C', 'C', 'NOKEY', 'D', 'C', 'C', 'C', 'C',\n",
      "       'C', 'C', 'D'], dtype='<U5'), array(['2', 'NOKEY', 'NOKEY', 'K', 'K', 'K', 'I', 'K', 'K', 'I', 'K', 'K',\n",
      "       'K', 'K', 'K', 'I', 'I', 'K', 'K', 'K', 'K', 'I', 'K', 'K', 'K',\n",
      "       'K', 'K', 'K', 'K', 'K', 'K', 'K', 'K', 'K', 'K', 'K', 'I', 'K',\n",
      "       'K', 'F', 'K', 'K', 'K', 'K', 'I', 'K', 'K', 'K', 'K', 'K', 'I',\n",
      "       'K', 'K', 'K', 'K', 'I', 'K', 'K', 'K', 'K', 'K', 'K', 'K', 'I',\n",
      "       'K', 'I', 'K', 'K', 'I', 'K', 'K', 'I', 'K', 'K', 'I', 'K', 'I',\n",
      "       'K', 'K', 'I', 'I', 'I', 'I', 'K', 'K', 'K', 'K', 'K', 'K', 'K',\n",
      "       'K', 'K', 'I', 'K', 'K', 'K', 'K', 'K', 'I', 'I', 'I', 'K', 'I',\n",
      "       'K', 'K', 'I', 'K', 'K', 'K', 'K', 'K', 'I', 'K', 'K', 'I', 'K',\n",
      "       'K', 'K', 'K', 'K', 'K', 'K', 'K', 'K', 'I', 'K', 'K', 'I', 'K',\n",
      "       'K', 'K', 'K', 'K'], dtype='<U5'), array(['NOKEY', 'W', 'Q', 'A', 'A', 'Q', 'W', 'Q', 'A', 'A', 'A', 'Q',\n",
      "       'Q', 'Q', 'A', 'A', 'A', 'Q', 'Q', 'Q', 'A', 'W', 'A', 'A', 'A',\n",
      "       'W', 'W', 'A', 'A', 'W', 'Q', 'W', 'A', 'A', 'W', 'Q', 'A', 'A',\n",
      "       'A', 'A', 'W', 'W', 'A', 'Q', 'A', 'A', 'Q', 'W', 'Q', 'A', 'W',\n",
      "       'W', 'Q', 'A', 'Q', 'Q', 'W', 'W', 'W', 'A', 'W', 'Q', 'A', 'W',\n",
      "       'Q', 'W', 'W', 'W', 'A', 'Q', 'W', 'W', 'A', 'Q', 'Q', 'Q', 'Q',\n",
      "       'W', 'A', 'A', 'Q', 'Q', 'Q', 'W', 'Q', 'Q', 'A', 'Q', 'A', 'Q',\n",
      "       'Q', 'A', 'W', 'W', 'W', 'Q', 'W', 'W', 'A', 'A', 'W', 'A', 'Q',\n",
      "       'A', 'W', 'NOKEY', 'Q', 'W', 'W', 'W', 'Q', 'A', 'A', 'Q', 'A'],\n",
      "      dtype='<U5'), array(['NOKEY', 'Y', 'R', 'T', 'G', 'N', 'N', 'G', 'Y', 'G', 'G', 'T',\n",
      "       'Y', 'G', 'T', 'N', 'T', 'Y', 'T', 'T', 'T', 'Y', 'Y', 'Y', 'N',\n",
      "       'Y', 'G', 'Y', 'T', 'T', 'Y', 'R', 'G', 'G', 'G', 'Y', 'T', 'T',\n",
      "       'Y', 'G', 'N', 'Y', 'Y', 'N', 'G', 'T', 'N', 'T', 'T', 'G', 'G',\n",
      "       'Y', 'Y', 'T', 'Y', 'Y', 'Y', 'Y', 'Q', 'R', 'T', 'Y', 'T', 'T',\n",
      "       'G', 'T', 'Y', 'G', 'T', 'G', 'Y', 'T', 'CTRL', 'T', 'G', 'G',\n",
      "       'NOKEY', 'Y', 'G', 'T', 'Y', 'G', 'T', 'Y', 'G', 'T', 'T', 'G',\n",
      "       'N', 'T', 'Y', 'T', 'T', 'G', 'G', 'G', 'N', 'G', 'Y', 'T', 'G',\n",
      "       'T', 'G', 'Y', 'G', 'Y', 'G', 'Y', 'T', 'G', 'T', 'T', 'G', 'T',\n",
      "       'G', 'T', 'T', 'Y', 'NOKEY', 'G', 'T', 'T'], dtype='<U5'), array(['NOKEY', 'NOKEY', 'NOKEY', 'O', 'O', 'O', 'O', 'O', 'O', 'O', 'O',\n",
      "       'L', 'O', 'O', 'L', 'O', 'O', 'L', 'O', 'L', 'O', 'O', 'O', 'O',\n",
      "       'L', 'O', 'O', 'O', 'O', 'O', 'O', 'L', 'O', 'L', 'O', 'O', 'O',\n",
      "       'O', 'L', 'O', 'O', 'O', 'O', 'O', 'O', 'O', 'O', 'O', 'L', 'O',\n",
      "       'O', 'O', 'O', 'O', 'O', 'O', 'O', 'O', 'O', 'O', 'O', 'L', 'O',\n",
      "       'O', 'O', 'O', 'O', 'O', 'L', 'O', 'O', 'O', 'O', 'L', 'L', 'O',\n",
      "       'O', 'O', 'L', 'O', 'O', 'L', 'O', 'O', 'O', 'O', 'L', 'O', 'O',\n",
      "       'O', 'O', 'O', 'L', 'O', 'O', 'O', 'O', 'O', 'O', 'L', 'O', 'L',\n",
      "       'O', 'O', '0', 'O', 'O', 'O', 'O', 'O', 'O', 'O', 'L', 'L', 'O',\n",
      "       'O', 'O', 'O', 'O', 'O'], dtype='<U5'), array(['NOKEY', 'NOKEY', 'Y', 'N', 'N', 'N', 'N', 'T', 'N', 'N', 'N', 'N',\n",
      "       'G', 'N', 'Y', 'N', 'N', 'Y', 'N', 'G', 'N', 'Y', 'N', 'N', 'Y',\n",
      "       'N', 'G', 'N', 'Y', 'N', 'N', 'N', 'N', 'N', 'N', 'N', 'Y', 'T',\n",
      "       'T', 'N', 'N', 'N', 'N', 'N', 'G', 'N', 'N', 'G', 'Y', 'N', 'Y',\n",
      "       'N', 'N', 'N', 'G', 'N', 'N', 'N', 'N', 'N', 'N', 'N', 'N', 'N',\n",
      "       'G', 'G', 'N', 'N', 'I', 'N', 'G', 'N', 'N', 'N', 'Y', 'N', 'N',\n",
      "       'N', 'G', 'N', 'T', 'N', 'N', 'N', 'N', 'T', 'G', 'Y', 'N', 'Y',\n",
      "       'N', 'G', 'T', 'N', 'N', 'T', 'N', 'T', 'Y', 'T', 'N', 'Y', 'N',\n",
      "       'N', 'T', 'N', 'T', 'N', 'N', 'N', 'N', 'G', 'Y', '3', 'NOKEY',\n",
      "       'T', 'N', 'N'], dtype='<U5'), array(['NOKEY', '1', '3', 'NOKEY', '1', '3', '3', '4', '3', '4', '3', '4',\n",
      "       '3', '3', '4', '1', '3', '2', '3', '4', '1', '3', '4', '3', '3',\n",
      "       '2', '3', '4', '2', '3', '2', '3', '3', '3', 'ENTER', '4', '4',\n",
      "       '1', '1', '4', '3', '1', '4', '4', '3', '4', '3', '3', '2', '2',\n",
      "       'R', '4', '2', '2', '2', '2', '1', '3', '4', '2', '4', '2', '3',\n",
      "       '3', '2', '2', '2', '4', '2', '4', '3', '3', '2', '4', '1', '2',\n",
      "       '4', '3', '2', '1', '4', '3', '1', '3', '3', '3', '3', '2',\n",
      "       'NOKEY', 'ENTER', '4', '2', '4', '3', '3', 'ENTER', '3', 'ENTER',\n",
      "       '2', '1', '3', '4', '4', '4', '1', '1', '1', '3', '3', '1', '4',\n",
      "       '3', '2', '3', '2', '1', '3', '3'], dtype='<U5'), array(['NOKEY', '4', '3', '2', 'ENTER', '4', '1', '4', '2', '2', '2'],\n",
      "      dtype='<U5'), array(['NOKEY', 'NOKEY', '0', '0', 'SUPPR', 'SUPPR', 'SUPPR', 'B',\n",
      "       'SUPPR', 'SUPPR', '0', 'SUPPR', '0', '0', '0', 'SUPPR', 'SUPPR',\n",
      "       'SUPPR', '0', '0', 'SUPPR', 'SUPPR', 'SUPPR', '0', 'SUPPR',\n",
      "       'SUPPR', '0', 'SUPPR', '0', '0', '0', '0', '0', '0', '0', 'SUPPR',\n",
      "       '0', '0', '0', '0', 'SUPPR', 'SUPPR', '0', '0', '0', '0', 'SUPPR',\n",
      "       '0', 'SUPPR', 'SUPPR', '0', 'SUPPR', 'SUPPR', 'SUPPR', '0', '0',\n",
      "       'SUPPR', '0', '0', 'SUPPR', 'SUPPR', '0', '0', 'SUPPR', 'R', '0',\n",
      "       '0', '0', 'SUPPR', '0', '0', '0', 'SUPPR', 'SUPPR', 'SUPPR', '0',\n",
      "       'SUPPR', '0', '0', 'SUPPR', '0', 'SUPPR', 'SUPPR', '0', '0', '0',\n",
      "       'SUPPR', '0', '0', '0', 'SUPPR', 'SUPPR', 'SUPPR', 'R', 'SUPPR',\n",
      "       'SUPPR', '0', 'SUPPR', '0', 'SUPPR', '0', 'SUPPR', 'SUPPR', '0',\n",
      "       '0', '0', '0', 'SUPPR', '0', 'SUPPR', 'SUPPR', '0', 'SUPPR',\n",
      "       'SUPPR', '0', '0', 'SUPPR', 'SUPPR', 'SUPPR', 'SUPPR', 'SUPPR',\n",
      "       'SUPPR', 'SUPPR', 'SUPPR', '0', 'SUPPR', '0', '0', 'SUPPR', '0',\n",
      "       'SUPPR', '0', 'SUPPR', '0', 'SUPPR', '0', '0', 'SUPPR', 'SUPPR',\n",
      "       'SUPPR', '0', '0', 'SUPPR', '0', 'SUPPR', '0', '0', 'SUPPR'],\n",
      "      dtype='<U5'), array(['NOKEY', 'ENTER', '1', '3', '4', 'ENTER', '3', '2', '3', '4', '1',\n",
      "       '3', '4', '1', '3', '4', '1', '4', '1', '1', '3', '2', '3', '3',\n",
      "       '2', '4', '4', '1', '1', '4', '3', '2', '2', '3', '4', '1', '3',\n",
      "       '2', '2', '2', '3', '2', '1', '3', '2', '3', '3', '3', '3', '1',\n",
      "       '2', '3', '3', '1', '1', '4', '2', '2', '3', '2', '2', '3', '3',\n",
      "       '1', '2', '2', '2', '1', '3', '2', '4', '2', '2', '2', '3', '2',\n",
      "       '1', 'D', '2', '3', '3', '1', '4', '3', '1', '1', '3', '1', '3',\n",
      "       '4', '1', '4', '3', '3', '4', '1', '2', '2', '2', '2', '3', '3',\n",
      "       '3', '2', '1', '4', '2', '3', '2', '1', '2', '2', '4', '3', '1',\n",
      "       '2', '3', '3', '1', '3', '2', '2', '1', '2', 'NOKEY', 'NOKEY', '1',\n",
      "       '2', '2', '2'], dtype='<U5'), array(['NOKEY', '1', '1', '4', '2', '2', 'ENTER', '1', '1', '3', '1', '2',\n",
      "       'ENTER', '2', '1', '1', '2', '4', '1', '2', '4', '4', '4', '1',\n",
      "       '3', '1', '4', '4', '3', '3', '4', '4', '2', '2', '9', '2', '1',\n",
      "       '3', 'ENTER', '3', '4', '2', '4', '4', '2', '4', '3', '3', '3',\n",
      "       '3', '2', 'NOKEY', '2', '3', '3', '2', '3', '4', '3', '4', 'ENTER',\n",
      "       '2', '2', '3', '1', '2', '4', '2', '3', '4', '4', '1', '4', '4',\n",
      "       '3', '2', '1', '3', '3', '4', 'ENTER', '1', '3', '4', '4', '3',\n",
      "       '4', '3', '3', '4', '2', '3', '2', '9', '3', '2', 'ENTER', '3',\n",
      "       '4', '2', '3', '2', '1', '2', '3', '3', '3', '3', '4', '2', '3',\n",
      "       '2', '3', '3', '3', '2', '2', 'NOKEY', '3', '1', '3', '4', '1',\n",
      "       'ENTER', '1', '1', '1', 'ENTER', '3', '4', '2', '2', '1', '3',\n",
      "       'ENTER', '1', '1', '1', '1', '2', '1', '3', '3'], dtype='<U5'), array(['NOKEY', 'NOKEY', 'ENTER', '4', 'ENTER', 'ENTER', 'ENTER', '3',\n",
      "       'ENTER', '3', 'ENTER', '4', 'ENTER', '2', 'ENTER', '3', '1', '4',\n",
      "       '3', '4', 'ENTER', '4', '3', '3', '1', 'ENTER', 'ENTER', 'ENTER',\n",
      "       '1', '4', '4', '1', '4', '4', 'ENTER', '1', '1', '4', 'U', '4',\n",
      "       '1', 'ENTER', 'ENTER', 'ENTER', '3', '4', 'ENTER', '4', 'ENTER',\n",
      "       '3', 'ENTER', '2', 'ENTER', '4', 'ENTER', 'ENTER', '1', 'ENTER',\n",
      "       'ENTER', '4', '4', 'ENTER', '1', 'ENTER', 'ENTER', 'ENTER',\n",
      "       'ENTER', 'ENTER', '1', 'ENTER', '4', '3', 'ENTER', 'ENTER', '4',\n",
      "       'ENTER', 'ENTER', '2', '2', '4', '4', '3', '4', '4', '3', '1',\n",
      "       'ENTER', '3', '1', '4', '2', 'ENTER', '4', '1', 'ENTER', 'ENTER',\n",
      "       'ENTER', 'ENTER', 'ENTER', '4', 'ENTER', 'ENTER', 'ENTER', '4',\n",
      "       'ENTER', 'ENTER', 'ENTER', 'ENTER', 'ENTER', 'ENTER', '1', 'ENTER',\n",
      "       'ENTER', '3', '4', 'ENTER', 'ENTER', '2', '1', 'ENTER', 'ENTER',\n",
      "       'ENTER', 'ENTER', 'ENTER', '1', '3', 'NOKEY', 'ENTER', 'ENTER',\n",
      "       '4', '1', 'ENTER', 'ENTER', 'ENTER', '1', 'ENTER', 'ENTER',\n",
      "       'ENTER', 'ENTER', 'ENTER', '4', 'ENTER', 'ENTER', '4', 'ENTER',\n",
      "       '3', '1', '1', 'ENTER'], dtype='<U5')]\n"
     ]
    }
   ],
   "source": [
    "# Creates blocs of letters based on repition patterns and extract mean signal of each bloc\n",
    "\n",
    "login_mdp = np.array(login_mdp)\n",
    "blocs = []\n",
    "mean_signal_blocs = []\n",
    "bloc_index = 0\n",
    "in_bloc = False\n",
    "min_bloc_size = 7\n",
    "\n",
    "for i in range(min_bloc_size, len(all_letters)):\n",
    "    mean_bloc = mean_letters(i-min_bloc_size, i, all_letters)\n",
    "    if mean_bloc != 'NOKEY' and not in_bloc:\n",
    "        bloc_index = i - min_bloc_size\n",
    "        in_bloc = True\n",
    "    elif in_bloc and mean_bloc == 'NOKEY':\n",
    "        in_bloc = False\n",
    "        blocs.append(all_letters[bloc_index:i-min_bloc_size])\n",
    "        mean_signal_blocs.append(login_mdp[bloc_index:i-min_bloc_size].mean(axis=0))\n",
    "print(blocs)"
   ]
  },
  {
   "cell_type": "code",
   "execution_count": null,
   "metadata": {
    "colab": {
     "base_uri": "https://localhost:8080/"
    },
    "id": "lUX_ydp-aWOs",
    "outputId": "c17f589a-db46-4a90-bd52-d8fdf92388ed"
   },
   "outputs": [
    {
     "name": "stdout",
     "output_type": "stream",
     "text": [
      "['CTRL', 'SHIFT', 'U', 'A', 'W', 'C', 'K', 'A', 'T', 'O', 'N', '3', '2', '0', '2', '3', 'ENTER']\n"
     ]
    }
   ],
   "source": [
    "# Extract the main letter of each bloc to find the password.\n",
    "\n",
    "message = []\n",
    "for bloc in blocs:\n",
    "    message.append(mean_letters(0, len(bloc), bloc))\n",
    "print(message)"
   ]
  },
  {
   "cell_type": "code",
   "execution_count": null,
   "metadata": {
    "colab": {
     "base_uri": "https://localhost:8080/"
    },
    "id": "hqMEZAF7kR7y",
    "outputId": "978ccb27-fe5a-4bc0-aca5-9a7bf88a0b95"
   },
   "outputs": [
    {
     "data": {
      "text/plain": [
       "array(['CTRL', 'SHIFT', 'U', 'A', 'A', 'E', 'K', 'A', 'Y', 'L', 'Y', '3',\n",
       "       '2', 'SUPPR', '4', '4', 'ENTER'], dtype='<U5')"
      ]
     },
     "execution_count": 52,
     "metadata": {
      "tags": []
     },
     "output_type": "execute_result"
    }
   ],
   "source": [
    "# knn on the mean signal of each block doesn't give good results ... (we get prediction further from \"HACKATON\", which is the expected pattern)\n",
    "knn.predict(mean_signal_blocs)"
   ]
  }
 ],
 "metadata": {
  "accelerator": "GPU",
  "colab": {
   "collapsed_sections": [],
   "name": "hackaton5.ipynb",
   "provenance": []
  },
  "kernelspec": {
   "display_name": "Python 3",
   "language": "python",
   "name": "python3"
  },
  "language_info": {
   "codemirror_mode": {
    "name": "ipython",
    "version": 3
   },
   "file_extension": ".py",
   "mimetype": "text/x-python",
   "name": "python",
   "nbconvert_exporter": "python",
   "pygments_lexer": "ipython3",
   "version": "3.8.5"
  }
 },
 "nbformat": 4,
 "nbformat_minor": 1
}
